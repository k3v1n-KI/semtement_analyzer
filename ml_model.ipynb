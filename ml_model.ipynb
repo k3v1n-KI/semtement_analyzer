{
 "cells": [
  {
   "cell_type": "code",
   "execution_count": 18,
   "metadata": {},
   "outputs": [],
   "source": [
    "import re\n",
    "import pandas as pd\n",
    "import matplotlib.pyplot as plt\n",
    "import tensorflow as tf\n",
    "from tqdm.auto import tqdm\n",
    "tqdm.pandas(desc=\"my bar!\")\n",
    "import spacy\n",
    "from spacy.lang.en.stop_words import STOP_WORDS"
   ]
  },
  {
   "cell_type": "code",
   "execution_count": 6,
   "metadata": {},
   "outputs": [],
   "source": [
    "df_amazon = pd.read_csv(\"amazon_cells_labelled.txt\", sep=\"\\t\")\n",
    "df_imdb = pd.read_csv(\"imdb_labelled.txt\", sep=\"\\t\")\n",
    "df_yelp = pd.read_csv(\"yelp_labelled.txt\", sep=\"\\t\")\n"
   ]
  },
  {
   "cell_type": "code",
   "execution_count": 7,
   "metadata": {},
   "outputs": [
    {
     "data": {
      "text/html": [
       "<div>\n",
       "<style scoped>\n",
       "    .dataframe tbody tr th:only-of-type {\n",
       "        vertical-align: middle;\n",
       "    }\n",
       "\n",
       "    .dataframe tbody tr th {\n",
       "        vertical-align: top;\n",
       "    }\n",
       "\n",
       "    .dataframe thead th {\n",
       "        text-align: right;\n",
       "    }\n",
       "</style>\n",
       "<table border=\"1\" class=\"dataframe\">\n",
       "  <thead>\n",
       "    <tr style=\"text-align: right;\">\n",
       "      <th></th>\n",
       "      <th>reviews</th>\n",
       "      <th>sentiment</th>\n",
       "    </tr>\n",
       "  </thead>\n",
       "  <tbody>\n",
       "    <tr>\n",
       "      <th>0</th>\n",
       "      <td>worthless product.</td>\n",
       "      <td>0</td>\n",
       "    </tr>\n",
       "    <tr>\n",
       "      <th>1</th>\n",
       "      <td>a drive thru means you do not want to wait aro...</td>\n",
       "      <td>0</td>\n",
       "    </tr>\n",
       "    <tr>\n",
       "      <th>2</th>\n",
       "      <td>I gave it a 10</td>\n",
       "      <td>1</td>\n",
       "    </tr>\n",
       "    <tr>\n",
       "      <th>3</th>\n",
       "      <td>this is the worst sushi i have ever eat beside...</td>\n",
       "      <td>0</td>\n",
       "    </tr>\n",
       "    <tr>\n",
       "      <th>4</th>\n",
       "      <td>My ribeye steak was cooked perfectly and had g...</td>\n",
       "      <td>1</td>\n",
       "    </tr>\n",
       "    <tr>\n",
       "      <th>...</th>\n",
       "      <td>...</td>\n",
       "      <td>...</td>\n",
       "    </tr>\n",
       "    <tr>\n",
       "      <th>2743</th>\n",
       "      <td>RUDE &amp; INCONSIDERATE MANAGEMENT.</td>\n",
       "      <td>0</td>\n",
       "    </tr>\n",
       "    <tr>\n",
       "      <th>2744</th>\n",
       "      <td>This is one of the better buffets that I have ...</td>\n",
       "      <td>1</td>\n",
       "    </tr>\n",
       "    <tr>\n",
       "      <th>2745</th>\n",
       "      <td>You get incredibly fresh fish, prepared with c...</td>\n",
       "      <td>1</td>\n",
       "    </tr>\n",
       "    <tr>\n",
       "      <th>2746</th>\n",
       "      <td>Very true to Shakespear, and a 'must' for all ...</td>\n",
       "      <td>1</td>\n",
       "    </tr>\n",
       "    <tr>\n",
       "      <th>2747</th>\n",
       "      <td>Honeslty it didn't taste THAT fresh.)</td>\n",
       "      <td>0</td>\n",
       "    </tr>\n",
       "  </tbody>\n",
       "</table>\n",
       "<p>2748 rows × 2 columns</p>\n",
       "</div>"
      ],
      "text/plain": [
       "                                                reviews  sentiment\n",
       "0                                    worthless product.          0\n",
       "1     a drive thru means you do not want to wait aro...          0\n",
       "2                                      I gave it a 10            1\n",
       "3     this is the worst sushi i have ever eat beside...          0\n",
       "4     My ribeye steak was cooked perfectly and had g...          1\n",
       "...                                                 ...        ...\n",
       "2743                   RUDE & INCONSIDERATE MANAGEMENT.          0\n",
       "2744  This is one of the better buffets that I have ...          1\n",
       "2745  You get incredibly fresh fish, prepared with c...          1\n",
       "2746  Very true to Shakespear, and a 'must' for all ...          1\n",
       "2747              Honeslty it didn't taste THAT fresh.)          0\n",
       "\n",
       "[2748 rows x 2 columns]"
      ]
     },
     "execution_count": 7,
     "metadata": {},
     "output_type": "execute_result"
    }
   ],
   "source": [
    "df_reviews = pd.concat([df_amazon, df_imdb, df_yelp])\n",
    "df_reviews = df_reviews.sample(frac=1).reset_index(drop=True)\n",
    "df_reviews"
   ]
  },
  {
   "cell_type": "code",
   "execution_count": 8,
   "metadata": {},
   "outputs": [
    {
     "data": {
      "text/plain": [
       "reviews      0\n",
       "sentiment    0\n",
       "dtype: int64"
      ]
     },
     "execution_count": 8,
     "metadata": {},
     "output_type": "execute_result"
    }
   ],
   "source": [
    "df_reviews.isnull().sum()"
   ]
  },
  {
   "cell_type": "code",
   "execution_count": 20,
   "metadata": {},
   "outputs": [
    {
     "data": {
      "image/png": "[encoded data removed]",
      "text/plain": [
       "<Figure size 640x480 with 1 Axes>"
      ]
     },
     "metadata": {},
     "output_type": "display_data"
    }
   ],
   "source": [
    "# Count the occurrences of 0 and 1 in the 'column_name'\n",
    "counts = df_reviews['sentiment'].value_counts()\n",
    "\n",
    "# Plot the bar chart\n",
    "counts.plot(kind='bar', color=['blue', 'orange'])\n",
    "\n",
    "# Set labels and title\n",
    "plt.xlabel('Value')\n",
    "plt.ylabel('Count')\n",
    "plt.title('Class Label Distribution')\n",
    "\n",
    "# Display the plot\n",
    "plt.xticks(ticks=[0, 1], labels=['0', '1'], rotation=0)\n",
    "plt.show()"
   ]
  },
  {
   "cell_type": "code",
   "execution_count": 13,
   "metadata": {},
   "outputs": [],
   "source": [
    "nlp = spacy.load(\"en_core_web_sm\")\n",
    "def preprocessor(text):\n",
    "    text = text.lower()\n",
    "    text = re.sub('<[^>]*>', '', text)\n",
    "    emoticons = re.findall('(?::|;|=)(?:-)?(?:\\)|\\(|D|P)', text)\n",
    "    text = re.sub('[\\W]+', ' ', text.lower()) + ''.join(emoticons).replace('-', '')\n",
    "    doc = nlp(text)\n",
    "    text = ' '.join([token.lemma_ for token in doc if token.text not in STOP_WORDS])\n",
    "    return text"
   ]
  },
  {
   "cell_type": "code",
   "execution_count": 16,
   "metadata": {},
   "outputs": [
    {
     "name": "stderr",
     "output_type": "stream",
     "text": [
      "my bar!: 100%|██████████| 2748/2748 [00:10<00:00, 272.75it/s]\n"
     ]
    }
   ],
   "source": [
    "df_reviews[\"preprocessed\"] = df_reviews[\"reviews\"].progress_apply(preprocessor)"
   ]
  },
  {
   "cell_type": "code",
   "execution_count": 23,
   "metadata": {},
   "outputs": [
    {
     "data": {
      "text/html": [
       "<div>\n",
       "<style scoped>\n",
       "    .dataframe tbody tr th:only-of-type {\n",
       "        vertical-align: middle;\n",
       "    }\n",
       "\n",
       "    .dataframe tbody tr th {\n",
       "        vertical-align: top;\n",
       "    }\n",
       "\n",
       "    .dataframe thead th {\n",
       "        text-align: right;\n",
       "    }\n",
       "</style>\n",
       "<table border=\"1\" class=\"dataframe\">\n",
       "  <thead>\n",
       "    <tr style=\"text-align: right;\">\n",
       "      <th></th>\n",
       "      <th>reviews</th>\n",
       "      <th>sentiment</th>\n",
       "      <th>preprocessed</th>\n",
       "    </tr>\n",
       "  </thead>\n",
       "  <tbody>\n",
       "    <tr>\n",
       "      <th>2</th>\n",
       "      <td>I gave it a 10</td>\n",
       "      <td>1</td>\n",
       "      <td>give 10</td>\n",
       "    </tr>\n",
       "    <tr>\n",
       "      <th>4</th>\n",
       "      <td>My ribeye steak was cooked perfectly and had g...</td>\n",
       "      <td>1</td>\n",
       "      <td>ribeye steak cook perfectly great mesquite flavor</td>\n",
       "    </tr>\n",
       "    <tr>\n",
       "      <th>5</th>\n",
       "      <td>The chicken was deliciously seasoned and had t...</td>\n",
       "      <td>1</td>\n",
       "      <td>chicken deliciously season perfect fry outside...</td>\n",
       "    </tr>\n",
       "    <tr>\n",
       "      <th>6</th>\n",
       "      <td>Pretty good beer selection too.</td>\n",
       "      <td>1</td>\n",
       "      <td>pretty good beer selection</td>\n",
       "    </tr>\n",
       "    <tr>\n",
       "      <th>9</th>\n",
       "      <td>Much less than the jawbone I was going to repl...</td>\n",
       "      <td>1</td>\n",
       "      <td>jawbone go replace</td>\n",
       "    </tr>\n",
       "    <tr>\n",
       "      <th>...</th>\n",
       "      <td>...</td>\n",
       "      <td>...</td>\n",
       "      <td>...</td>\n",
       "    </tr>\n",
       "    <tr>\n",
       "      <th>2736</th>\n",
       "      <td>We would recommend these to others.</td>\n",
       "      <td>1</td>\n",
       "      <td>recommend</td>\n",
       "    </tr>\n",
       "    <tr>\n",
       "      <th>2739</th>\n",
       "      <td>Razr Battery - Good buy.</td>\n",
       "      <td>1</td>\n",
       "      <td>razr battery good buy</td>\n",
       "    </tr>\n",
       "    <tr>\n",
       "      <th>2744</th>\n",
       "      <td>This is one of the better buffets that I have ...</td>\n",
       "      <td>1</td>\n",
       "      <td>well buffet</td>\n",
       "    </tr>\n",
       "    <tr>\n",
       "      <th>2745</th>\n",
       "      <td>You get incredibly fresh fish, prepared with c...</td>\n",
       "      <td>1</td>\n",
       "      <td>incredibly fresh fish prepare care</td>\n",
       "    </tr>\n",
       "    <tr>\n",
       "      <th>2746</th>\n",
       "      <td>Very true to Shakespear, and a 'must' for all ...</td>\n",
       "      <td>1</td>\n",
       "      <td>true shakespear shakespear fan</td>\n",
       "    </tr>\n",
       "  </tbody>\n",
       "</table>\n",
       "<p>1386 rows × 3 columns</p>\n",
       "</div>"
      ],
      "text/plain": [
       "                                                reviews  sentiment  \\\n",
       "2                                      I gave it a 10            1   \n",
       "4     My ribeye steak was cooked perfectly and had g...          1   \n",
       "5     The chicken was deliciously seasoned and had t...          1   \n",
       "6                       Pretty good beer selection too.          1   \n",
       "9     Much less than the jawbone I was going to repl...          1   \n",
       "...                                                 ...        ...   \n",
       "2736                We would recommend these to others.          1   \n",
       "2739                           Razr Battery - Good buy.          1   \n",
       "2744  This is one of the better buffets that I have ...          1   \n",
       "2745  You get incredibly fresh fish, prepared with c...          1   \n",
       "2746  Very true to Shakespear, and a 'must' for all ...          1   \n",
       "\n",
       "                                           preprocessed  \n",
       "2                                               give 10  \n",
       "4     ribeye steak cook perfectly great mesquite flavor  \n",
       "5     chicken deliciously season perfect fry outside...  \n",
       "6                            pretty good beer selection  \n",
       "9                                    jawbone go replace  \n",
       "...                                                 ...  \n",
       "2736                                          recommend  \n",
       "2739                              razr battery good buy  \n",
       "2744                                        well buffet  \n",
       "2745                 incredibly fresh fish prepare care  \n",
       "2746                     true shakespear shakespear fan  \n",
       "\n",
       "[1386 rows x 3 columns]"
      ]
     },
     "execution_count": 23,
     "metadata": {},
     "output_type": "execute_result"
    }
   ],
   "source": [
    "df_reviews[df_reviews[\"sentiment\"] == 1]"
   ]
  }
 ],
 "metadata": {
  "kernelspec": {
   "display_name": "ml_project",
   "language": "python",
   "name": "python3"
  },
  "language_info": {
   "codemirror_mode": {
    "name": "ipython",
    "version": 3
   },
   "file_extension": ".py",
   "mimetype": "text/x-python",
   "name": "python",
   "nbconvert_exporter": "python",
   "pygments_lexer": "ipython3",
   "version": "3.9.18"
  }
 },
 "nbformat": 4,
 "nbformat_minor": 2
}
